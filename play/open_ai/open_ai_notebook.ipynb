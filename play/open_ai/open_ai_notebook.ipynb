{
 "cells": [
  {
   "cell_type": "code",
   "execution_count": 1,
   "metadata": {},
   "outputs": [],
   "source": [
    "from getpass import getpass\n",
    "OPENAI_API_KEY = getpass()\n",
    "\n"
   ]
  },
  {
   "cell_type": "code",
   "execution_count": 2,
   "metadata": {},
   "outputs": [],
   "source": [
    "import os\n",
    "\n",
    "os.environ[\"OPENAI_API_KEY\"] = OPENAI_API_KEY"
   ]
  },
  {
   "cell_type": "code",
   "execution_count": 3,
   "metadata": {},
   "outputs": [],
   "source": [
    "from langchain_core.prompts import PromptTemplate\n",
    "from langchain_openai import OpenAI"
   ]
  },
  {
   "cell_type": "code",
   "execution_count": 4,
   "metadata": {},
   "outputs": [],
   "source": [
    "template = \"\"\"Question: {question}\n",
    "\n",
    "Answer: Let's think step by step.\"\"\"\n",
    "\n",
    "prompt = PromptTemplate.from_template(template)"
   ]
  },
  {
   "cell_type": "code",
   "execution_count": 5,
   "metadata": {},
   "outputs": [
    {
     "data": {
      "text/plain": [
       "\" \\n\\nJustin Beiber was born on March 1, 1994. \\n\\nThe Super Bowl is typically played in February of each year. \\n\\nTherefore, the Super Bowl that was played closest to Justin Beiber's birth was the Super Bowl XXVIII, played on January 30, 1994. \\n\\nThe Dallas Cowboys won Super Bowl XXVIII by defeating the Buffalo Bills with a score of 30-13. \\n\\nSo, the Dallas Cowboys won the Super Bowl in the year Justin Beiber was born.\""
      ]
     },
     "execution_count": 5,
     "metadata": {},
     "output_type": "execute_result"
    }
   ],
   "source": [
    "llm = OpenAI()\n",
    "llm_chain = prompt | llm\n",
    "question = \"What NFL team won the Super Bowl in the year Justin Beiber was born?\"\n",
    "\n",
    "llm_chain.invoke(question)"
   ]
  },
  {
   "cell_type": "code",
   "execution_count": 6,
   "metadata": {},
   "outputs": [
    {
     "name": "stderr",
     "output_type": "stream",
     "text": [
      "/home/rex/Softwares/conda/envs/ai_girlfriend/lib/python3.11/site-packages/langchain_core/_api/deprecation.py:139: LangChainDeprecationWarning: The class `ChatOpenAI` was deprecated in LangChain 0.0.10 and will be removed in 0.3.0. An updated version of the class exists in the langchain-openai package and should be used instead. To use it run `pip install -U langchain-openai` and import as `from langchain_openai import ChatOpenAI`.\n",
      "  warn_deprecated(\n",
      "/home/rex/Softwares/conda/envs/ai_girlfriend/lib/python3.11/site-packages/langchain_core/_api/deprecation.py:139: LangChainDeprecationWarning: The method `BaseChatModel.__call__` was deprecated in langchain-core 0.1.7 and will be removed in 0.3.0. Use invoke instead.\n",
      "  warn_deprecated(\n"
     ]
    },
    {
     "name": "stdout",
     "output_type": "stream",
     "text": [
      "content='Hello! How can I assist you today?' response_metadata={'token_usage': {'completion_tokens': 9, 'prompt_tokens': 10, 'total_tokens': 19}, 'model_name': 'gpt-3.5-turbo', 'system_fingerprint': None, 'finish_reason': 'stop', 'logprobs': None} id='run-9bc74c78-327a-423b-a687-885c1bf23b52-0'\n",
      "content='红烧肉是一道传统的中国菜肴，制作方法如下：\\n\\n材料：\\n- 猪五花肉500克\\n- 姜片、葱段、八角、桂皮、干辣椒适量\\n- 料酒、生抽、老抽、白糖、盐适量\\n- 清水适量\\n\\n做法：\\n1. 将猪五花肉切成块状，放入开水中焯水，捞出后用清水冲洗干净备用。\\n2. 热锅凉油，放入姜片、葱段、八角、桂皮、干辣椒炒香。\\n3. 放入焯水后的五花肉块，煸炒至表面微黄。\\n4. 加入适量的料酒、生抽、老抽、白糖、盐，煸炒均匀。\\n5. 加入清水，水量要没过肉块，大火煮开后转小火炖煮40分钟至肉变软。\\n6. 最后收汁，将肉块翻炒均匀，让肉块均匀上色即可。\\n\\n红烧肉炖煮的时间越长，肉质越软糯，口感更好。可以根据个人口味适量调整调料的用量。Serve and enjoy!' response_metadata={'token_usage': {'completion_tokens': 415, 'prompt_tokens': 19, 'total_tokens': 434}, 'model_name': 'gpt-3.5-turbo', 'system_fingerprint': None, 'finish_reason': 'stop', 'logprobs': None} id='run-7a7b2a3e-15df-446a-8be0-024adcf38af6-0'\n"
     ]
    }
   ],
   "source": [
    "from langchain.chat_models import ChatOpenAI\n",
    "from langchain.schema import HumanMessage\n",
    "import os\n",
    "\n",
    "chat = ChatOpenAI(temperature=0, model_name=\"gpt-3.5-turbo\")\n",
    "\n",
    "# 发送用户消息并获取回复\n",
    "response = chat([HumanMessage(content=\"Hello LangChain\")])\n",
    "print(response)\n",
    "\n",
    "# 更多示例\n",
    "print(chat([HumanMessage(content=\"红烧肉怎么做\")]))"
   ]
  }
 ],
 "metadata": {
  "kernelspec": {
   "display_name": "ai_girlfriend",
   "language": "python",
   "name": "python3"
  },
  "language_info": {
   "codemirror_mode": {
    "name": "ipython",
    "version": 3
   },
   "file_extension": ".py",
   "mimetype": "text/x-python",
   "name": "python",
   "nbconvert_exporter": "python",
   "pygments_lexer": "ipython3",
   "version": "3.11.9"
  }
 },
 "nbformat": 4,
 "nbformat_minor": 2
}
